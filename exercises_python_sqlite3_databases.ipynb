{
  "nbformat": 4,
  "nbformat_minor": 0,
  "metadata": {
    "colab": {
      "name": "exercises_python_sqlite3_databases.ipynb",
      "provenance": [],
      "authorship_tag": "ABX9TyM10goF2pIZD6giZrBWuDYf",
      "include_colab_link": true
    },
    "kernelspec": {
      "name": "python3",
      "display_name": "Python 3"
    },
    "language_info": {
      "name": "python"
    }
  },
  "cells": [
    {
      "cell_type": "markdown",
      "metadata": {
        "id": "view-in-github",
        "colab_type": "text"
      },
      "source": [
        "<a href=\"https://colab.research.google.com/github/AounKa/test-colab/blob/main/exercises_python_sqlite3_databases.ipynb\" target=\"_parent\"><img src=\"https://colab.research.google.com/assets/colab-badge.svg\" alt=\"Open In Colab\"/></a>"
      ]
    },
    {
      "cell_type": "code",
      "metadata": {
        "id": "Hth1p6BllFvQ"
      },
      "source": [
        "import sqlite3\n",
        "\n",
        "\n",
        "conn = sqlite3.connect('esmartdata.sqlite3')\n",
        "cur = conn.cursor()\n",
        "\n",
        "cur.executescript('''DROP TABLE IF EXISTS \"esmartdata_instructor\";\n",
        "CREATE TABLE IF NOT EXISTS \"esmartdata_instructor\" (\n",
        "  \"id\" integer NOT NULL,\n",
        "  \"first_name\" text NOT NULL,\n",
        "  \"last_name\" text NOT NULL,\n",
        "  \"description\" text NOT NULL,\n",
        "  PRIMARY KEY(\"id\" AUTOINCREMENT)\n",
        ");\n",
        "\n",
        "DROP TABLE IF EXISTS \"esmartdata_course\";\n",
        "CREATE TABLE IF NOT EXISTS \"esmartdata_course\" (\n",
        "  \"id\" integer NOT NULL,\n",
        "  \"title\" text NOT NULL,\n",
        "  \"subtitle\" text NOT NULL,\n",
        "  \"description\" text NOT NULL,\n",
        "  \"category\" text NOT NULL,\n",
        "  \"subcategory\" text NOT NULL,\n",
        "  \"language\" text NOT NULL,\n",
        "  \"length\" text NOT NULL,\n",
        "  \"rating\" real NOT NULL,\n",
        "  \"referral_link\" text NOT NULL,\n",
        "  \"instructor_id\" integer NOT NULL,\n",
        "  PRIMARY KEY(\"id\" AUTOINCREMENT),\n",
        "  FOREIGN KEY(\"instructor_id\") REFERENCES \"esmartdata_instructor\"(\"id\")\n",
        "  ON DELETE CASCADE ON UPDATE CASCADE\n",
        ")''')\n",
        "\n",
        "cur.execute(''' INSERT INTO \"esmartdata_instructor\" (\"id\",\"first_name\", \"last_name\", \"description\") \n",
        "    VALUES(1,\"Pawel\", \"Krakowiak\",\"Data Scientist/Python Developer/Securities Broker\"),\n",
        "          (2,\"Ninga\", \"Good\",\"Game Name\"),\n",
        "          (3,\"Awen\", \"Karimi\", \"Data Engineer\")\n",
        "    ''')\n",
        "\n",
        "conn.commit()\n",
        "cur.execute(\"SELECT * FROM esmartdata_instructor\")\n",
        "for row in cur.fetchall():\n",
        "    print (row)\n",
        "\n",
        "conn.close()"
      ],
      "execution_count": null,
      "outputs": []
    }
  ]
}